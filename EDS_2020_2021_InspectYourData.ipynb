{
 "cells": [
  {
   "cell_type": "markdown",
   "metadata": {},
   "source": [
    "# How to inspect your data ? \n",
    "\n",
    "\n",
    "**Authors**: Antoine Lucas (lucas@ipgp.fr) - Grégory Sainton (sainton@ipgp.fr)\n",
    "\n",
    "**Version**: 1.0\n",
    "\n",
    "**Date**: 2020/12/17\n",
    "\n",
    "----\n",
    "**Purpose**:\n",
    "This short notebook is made to show you quickly how to inspect a new set of data\n",
    "\n",
    "This step is an **unvoidable prerequisite** to any data analysis, whatever you call it, `data science`, `machine learning`, `deep learning`. As reminded during the courses, don't expect to get good results with bad input data: **Garbage in, garbage out**\n",
    "\n",
    "During your future Machine Learning projects, you will face several challenges\n",
    "- Insufficient quantity of training data\n",
    "- Non representative training data\n",
    "- Poor-Quality Data\n",
    "- Irrelevant Features\n",
    "- Overfitting or Underfitting the training data\n",
    "\n",
    "\n",
    "----\n",
    "**Reference**: A. Géron, Machine Learning avec Scikit-Learn, Ed. DUNOD, 201\n",
    "                     Especially the github of the author : https://github.com/ageron   "
   ]
  },
  {
   "cell_type": "markdown",
   "metadata": {},
   "source": [
    "## Pandas profiling tool\n",
    "\n",
    "Among the tools used to inspect the data, ```pandas_profiling``` is certainly beeing more and more used in the Data Science Community. \n",
    "\n",
    "### Install using conda \n",
    "`conda env create -n pandas-profiling`\n",
    "\n",
    "`conda activate pandas-profiling`\n",
    "\n",
    "`conda install -c conda-forge pandas-profiling`\n",
    "\n",
    "### Add the extension to your Jupyter notebook\n",
    "\n",
    "`jupyter nbextension enable --py widgetsnbextension`"
   ]
  },
  {
   "cell_type": "markdown",
   "metadata": {},
   "source": [
    "## Test on the data of the first Lab\n",
    "\n",
    "In the first lab, we will work on data from [ObsEra](http://www.ipgp.fr/en/obsera/obsera-observatory-of-water-and-erosion-in-the-caribbean). As an introduction to our purpose, we propose you to test some tools and commands on this dataset.\n",
    "\n",
    "Make sure that you cloned the repository from :\n",
    "\n",
    "```git clone https://pss-gitlab.math.univ-paris-diderot.fr/dralucas/earth-data-science```\n",
    "\n",
    "\n",
    "The data are saved in `./data` directory. In this data directory, there are `/CHEM` and `/HYDRO` directories. We are only focusing on the first one. \n"
   ]
  },
  {
   "cell_type": "markdown",
   "metadata": {},
   "source": [
    "### Load the data"
   ]
  },
  {
   "cell_type": "code",
   "execution_count": null,
   "metadata": {},
   "outputs": [],
   "source": [
    "%reset -f     \n",
    "# The previous line is used to reset all the variables at each runs\n",
    "\n",
    "import os, sys\n",
    "import pandas as pd\n",
    "import numpy as np\n",
    "from glob import glob\n",
    "\n",
    "#Chemical data\n",
    "ObseraDir_chem = './data/CHEM/'\n",
    "filelist_chem = glob(ObseraDir_chem + 'C*.csv')\n",
    "\n",
    "data_chem = pd.read_csv(filelist_chem[0], sep=';')"
   ]
  },
  {
   "cell_type": "markdown",
   "metadata": {},
   "source": [
    "### Inspect with Pandas "
   ]
  },
  {
   "cell_type": "markdown",
   "metadata": {},
   "source": [
    "#### Basics Pandas tools\n",
    "\n",
    "- df.head() -> to display the first rows of the DataFrame (5 rows by default)\n",
    "- df.tail() -> to display the last rows of the DataFrame  (5 rows by default)\n",
    "- df.infos()\n"
   ]
  },
  {
   "cell_type": "code",
   "execution_count": null,
   "metadata": {},
   "outputs": [],
   "source": [
    "data_chem.head()"
   ]
  },
  {
   "cell_type": "code",
   "execution_count": null,
   "metadata": {},
   "outputs": [],
   "source": [
    "data_chem.tail()"
   ]
  },
  {
   "cell_type": "code",
   "execution_count": null,
   "metadata": {},
   "outputs": [],
   "source": [
    "data_chem.info()"
   ]
  },
  {
   "cell_type": "markdown",
   "metadata": {},
   "source": [
    "`df.info()` is very useful to see the type of each fields especially when they are not numerical but categorical which of course may orient the choice of your ML models."
   ]
  },
  {
   "cell_type": "code",
   "execution_count": null,
   "metadata": {},
   "outputs": [],
   "source": [
    "data_chem.describe()"
   ]
  },
  {
   "cell_type": "markdown",
   "metadata": {},
   "source": [
    "`df.describe()` focus on the numerical data giving very basic statistics for each fields."
   ]
  },
  {
   "cell_type": "markdown",
   "metadata": {},
   "source": [
    "One can focus only on a single field: "
   ]
  },
  {
   "cell_type": "code",
   "execution_count": null,
   "metadata": {},
   "outputs": [],
   "source": [
    "data_chem[\"Conductivity\"].describe()"
   ]
  },
  {
   "cell_type": "markdown",
   "metadata": {},
   "source": [
    "##### Basic plots of the data "
   ]
  },
  {
   "cell_type": "markdown",
   "metadata": {},
   "source": [
    "Here is a command to plot all the `histogram` of the data. Very useful because most of the time, to improve and fasten your model, you will have to normalize your data."
   ]
  },
  {
   "cell_type": "code",
   "execution_count": null,
   "metadata": {},
   "outputs": [],
   "source": [
    "data_chem.hist(figsize=(12,8))"
   ]
  },
  {
   "cell_type": "markdown",
   "metadata": {},
   "source": [
    "Now, another command to plot the `scatter matrix` to have a look on the correlations between your features."
   ]
  },
  {
   "cell_type": "code",
   "execution_count": null,
   "metadata": {},
   "outputs": [],
   "source": [
    "from pandas.plotting import scatter_matrix\n",
    "attributes = [\"Conductivity\", \"Suspended Load\", \"Twater (°C)\"] # test with a subset of data\n",
    "scatter_matrix(data_chem[attributes])"
   ]
  },
  {
   "cell_type": "markdown",
   "metadata": {},
   "source": [
    "#### One tool to rule them all: Pandas profiling\n",
    "\n",
    "For sure, you didn't understand, why we asked you to install Pandas profiling tool without using it... \n",
    "Its time has come !"
   ]
  },
  {
   "cell_type": "code",
   "execution_count": null,
   "metadata": {},
   "outputs": [],
   "source": [
    "try:\n",
    "    from pandas_profiling import ProfileReport\n",
    "    profile = ProfileReport(data_chem, title=\"Pandas Profiling Report\")\n",
    "    \n",
    "except ModuleNotFoundError:\n",
    "    print(\"module 'ProfileReport' is not installed\")\n"
   ]
  },
  {
   "cell_type": "code",
   "execution_count": null,
   "metadata": {},
   "outputs": [],
   "source": [
    "profile"
   ]
  },
  {
   "cell_type": "markdown",
   "metadata": {},
   "source": []
  }
 ],
 "metadata": {
  "kernelspec": {
   "display_name": "Python 3",
   "language": "python",
   "name": "python3"
  },
  "language_info": {
   "codemirror_mode": {
    "name": "ipython",
    "version": 3
   },
   "file_extension": ".py",
   "mimetype": "text/x-python",
   "name": "python",
   "nbconvert_exporter": "python",
   "pygments_lexer": "ipython3",
   "version": "3.8.3"
  }
 },
 "nbformat": 4,
 "nbformat_minor": 4
}
