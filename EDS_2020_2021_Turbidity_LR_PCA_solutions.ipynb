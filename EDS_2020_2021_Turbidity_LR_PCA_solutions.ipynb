{
 "cells": [
  {
   "cell_type": "markdown",
   "metadata": {},
   "source": [
    "<img src=\"./Figures/LogoObsera.png\" width=\"75\" align=\"left\" style=\"vertical-align:middle;margin:0px 100px\" ><h1>   River load sensor calibration</h1>\n",
    "\n",
    "\n",
    "<h2>Find the regression for linking suspended load with high frequency turbidity</h2>\n",
    "\n",
    "-------\n",
    "\n",
    "- **Authors**: Antoine Lucas (lucas@ipgp.fr) - Amande Roque-Bernard (roquebernard@ipgp.fr) - Grégory Sainton (sainton@ipgp.fr)\n",
    "- **Version**: 2.0\n",
    "\n",
    "\n",
    "--------\n",
    "- **Objective**: We seek to calibrate a turbidity probe placed in a river against independent measurements of suspended solids concentration.\n",
    "\n",
    "- **The data**: The data come from ObsEra, an observatory located in Guadeloupe that gives us information on the erosion of this volcanic island in a few watersheds.\n",
    "\n",
    "- **You will learn**: how to prepare and clean the data. It's probably the most important part of the job. Then, you will play with your first models with the `scikit-learn` library. \n",
    "\n",
    "\n",
    "- **NB1**: If some errors or bugs are still in the notebook despite our efforts, please send us an email to tell us.\n",
    "\n",
    "- **NB2**: Solutions which will be proposed in the corrected notebooks are only a possible solution. \n",
    "\n",
    "- **NB3**: This notebook is based on Amande's thesis work. Further analysis can be done, please contact her. \n",
    "\n",
    "----\n",
    "## This notebook is made of two parts \n",
    "### How to open the data ? \n",
    "\n",
    "It's a very guided part to learn how to have a first look on your datasets. School data ar often already clean but the real data are often very messy. So we need to spend time to clean and to prepare the data before starting the real analysis.\n",
    "\n",
    "### Select, apply, train a model\n",
    "\n",
    "In this section, we will play with some models using `scikit-learn` library. \n",
    "1. Linear regression\n",
    "2. Principal Component Analysis (PCA)\n",
    "\n",
    "But of course, we encourage you to go further, to test some other models and to compare your results.\n",
    "\n",
    "Have fun !\n",
    "\n",
    "----\n"
   ]
  },
  {
   "cell_type": "markdown",
   "metadata": {},
   "source": [
    "## How to open the data\n",
    "\n",
    "All the data are saved in the `data` directory of this lab.\n",
    "They are separated in two subsets, one with **chemical informations** and another one with **hydrological informations**.\n",
    "\n",
    "This part is done for you. No need to modify the following cell. Just notice that `filelist_chem` and `filelist_hydro` are the 2 arrays variables which contain the list of files we will use after."
   ]
  },
  {
   "cell_type": "code",
   "execution_count": 41,
   "metadata": {},
   "outputs": [],
   "source": [
    "%reset -f     \n",
    "# The previous line is used to reset all the variables at each runs\n",
    "\n",
    "import os, sys\n",
    "import pandas as pd\n",
    "import numpy as np\n",
    "from glob import glob\n",
    "import matplotlib.pyplot as plt\n",
    "from scipy import stats\n",
    "import warnings\n",
    "warnings.filterwarnings('ignore')\n",
    "\n",
    "#Chemical data\n",
    "ObseraDir_chem = './data/CHEM/'\n",
    "filelist_chem = glob(ObseraDir_chem + 'C*.csv')\n",
    "\n",
    "#Hydrologic data\n",
    "ObseraDir_hydro = './data/HYDRO/'\n",
    "filelist_hydro = glob(ObseraDir_hydro + 'Data*.csv' )  # list of the raw data files        "
   ]
  },
  {
   "cell_type": "markdown",
   "metadata": {},
   "source": [
    "### Observe and prepare the data\n",
    "The first step is to look at your data. \n",
    "\n",
    "- For the first dataset, you'are guided at almost every steps. \n",
    "- For the second data set, you will have to do it on your own."
   ]
  },
  {
   "cell_type": "markdown",
   "metadata": {},
   "source": [
    "#### Chemical data"
   ]
  },
  {
   "cell_type": "markdown",
   "metadata": {},
   "source": [
    "##### Read the data\n",
    "\n",
    "1. Using the `read_csv` function from Pandas library, open the file (Use the parameter `na_value` to remove NaN) data.\n",
    "\n",
    "2. Create a \"datetime\" column by adding together the columns \"Date\" and \"Hour\"   ```2020-01-06 10:00:00```\n",
    "3. Convert this coloumn to a datetime format.\n",
    "4. Attribute the column `datetime` as the index of your pandas structure.\n",
    "\n",
    "**hints** \n",
    "- Beware of the separator which is a semicolon (;)\n",
    "- `filelist_chem` is an array"
   ]
  },
  {
   "cell_type": "code",
   "execution_count": 42,
   "metadata": {},
   "outputs": [],
   "source": [
    "# WRITE YOUR CODE HERE\n",
    "data_chem = None                           # open the file "
   ]
  },
  {
   "cell_type": "markdown",
   "metadata": {},
   "source": [
    "##### Solution to read the data"
   ]
  },
  {
   "cell_type": "code",
   "execution_count": 43,
   "metadata": {},
   "outputs": [],
   "source": [
    "data_chem = pd.read_csv(filelist_chem[0], sep=';', \n",
    "                        na_values = \"nan\")\n",
    "\n",
    "# Create an homogenous datetime vector by concatenation of the fields \"Date\" and \"Hour\"\n",
    "data_chem[\"datetime\"] = data_chem[\"Date\"]+\" \"+data_chem[\"Hour\"]  # concat date and time in a single variable\n",
    "data_chem[\"datetime\"] = pd.to_datetime(data_chem[\"datetime\"])    # convert the string type to datetime type\n",
    "data_chem.index = data_chem[\"datetime\"]                          # set the datetime as index\n",
    "#del data_chem['datetime'] \n",
    "    \n",
    "#data_chem.Date     = pd.to_datetime(data_chem.Date+ ' ' + data_chem.Hour)  # Conversion des dates en objet datetime\n",
    "#data_chem          = data_chem.groupby('Date').mean()\n",
    "#data_chem ['Datetime'] = data_chem.index\n"
   ]
  },
  {
   "cell_type": "markdown",
   "metadata": {},
   "source": [
    "##### Inspect the data\n",
    "Using `data_chem.head()`, `data_chem.info()`,`data_chem.describe()`, explore your data set\n",
    "\n",
    "\n",
    "- numbers of rows, of columns\n",
    "- checks the range of each fields\n",
    "- What are the different fields, their type (especially, non numeric values).\n",
    "- Do we have NaN, blank values ?"
   ]
  },
  {
   "cell_type": "code",
   "execution_count": 44,
   "metadata": {},
   "outputs": [],
   "source": [
    "# WRITE YOUR CODE HERE"
   ]
  },
  {
   "cell_type": "code",
   "execution_count": 45,
   "metadata": {},
   "outputs": [
    {
     "data": {
      "text/html": [
       "<div>\n",
       "<style scoped>\n",
       "    .dataframe tbody tr th:only-of-type {\n",
       "        vertical-align: middle;\n",
       "    }\n",
       "\n",
       "    .dataframe tbody tr th {\n",
       "        vertical-align: top;\n",
       "    }\n",
       "\n",
       "    .dataframe thead th {\n",
       "        text-align: right;\n",
       "    }\n",
       "</style>\n",
       "<table border=\"1\" class=\"dataframe\">\n",
       "  <thead>\n",
       "    <tr style=\"text-align: right;\">\n",
       "      <th></th>\n",
       "      <th>Date</th>\n",
       "      <th>Hour</th>\n",
       "      <th>Code Site</th>\n",
       "      <th>Site</th>\n",
       "      <th>Level</th>\n",
       "      <th>Type</th>\n",
       "      <th>Flask</th>\n",
       "      <th>Twater (°C)</th>\n",
       "      <th>Suspended Load</th>\n",
       "      <th>pH</th>\n",
       "      <th>...</th>\n",
       "      <th>Mg</th>\n",
       "      <th>Ca</th>\n",
       "      <th>HCO3</th>\n",
       "      <th>Cl</th>\n",
       "      <th>SO4</th>\n",
       "      <th>Conductivity at 25°C</th>\n",
       "      <th>NICB (%)</th>\n",
       "      <th>Comment</th>\n",
       "      <th>Validate</th>\n",
       "      <th>datetime</th>\n",
       "    </tr>\n",
       "    <tr>\n",
       "      <th>datetime</th>\n",
       "      <th></th>\n",
       "      <th></th>\n",
       "      <th></th>\n",
       "      <th></th>\n",
       "      <th></th>\n",
       "      <th></th>\n",
       "      <th></th>\n",
       "      <th></th>\n",
       "      <th></th>\n",
       "      <th></th>\n",
       "      <th></th>\n",
       "      <th></th>\n",
       "      <th></th>\n",
       "      <th></th>\n",
       "      <th></th>\n",
       "      <th></th>\n",
       "      <th></th>\n",
       "      <th></th>\n",
       "      <th></th>\n",
       "      <th></th>\n",
       "      <th></th>\n",
       "    </tr>\n",
       "  </thead>\n",
       "  <tbody>\n",
       "    <tr>\n",
       "      <th>2019-09-20 10:53:00</th>\n",
       "      <td>2019-09-20</td>\n",
       "      <td>10:53</td>\n",
       "      <td>GRCCEDIG</td>\n",
       "      <td>RCCEDIG</td>\n",
       "      <td>14.0</td>\n",
       "      <td>2</td>\n",
       "      <td>P</td>\n",
       "      <td>23.3</td>\n",
       "      <td>NaN</td>\n",
       "      <td>7.28</td>\n",
       "      <td>...</td>\n",
       "      <td>NaN</td>\n",
       "      <td>NaN</td>\n",
       "      <td>30.7</td>\n",
       "      <td>NaN</td>\n",
       "      <td>NaN</td>\n",
       "      <td>64.1</td>\n",
       "      <td>NaN</td>\n",
       "      <td>Alc. mesurée en labo le 20/09/2019; autres par...</td>\n",
       "      <td>NaN</td>\n",
       "      <td>2019-09-20 10:53:00</td>\n",
       "    </tr>\n",
       "    <tr>\n",
       "      <th>2019-07-29 12:52:00</th>\n",
       "      <td>2019-07-29</td>\n",
       "      <td>12:52</td>\n",
       "      <td>GRCCEDIG</td>\n",
       "      <td>RCCEDIG</td>\n",
       "      <td>NaN</td>\n",
       "      <td>1</td>\n",
       "      <td>P</td>\n",
       "      <td>NaN</td>\n",
       "      <td>118.6</td>\n",
       "      <td>NaN</td>\n",
       "      <td>...</td>\n",
       "      <td>NaN</td>\n",
       "      <td>NaN</td>\n",
       "      <td>NaN</td>\n",
       "      <td>NaN</td>\n",
       "      <td>NaN</td>\n",
       "      <td>28.1</td>\n",
       "      <td>NaN</td>\n",
       "      <td>P24</td>\n",
       "      <td>NaN</td>\n",
       "      <td>2019-07-29 12:52:00</td>\n",
       "    </tr>\n",
       "    <tr>\n",
       "      <th>2019-07-28 20:22:00</th>\n",
       "      <td>2019-07-28</td>\n",
       "      <td>20:22</td>\n",
       "      <td>GRCCEDIG</td>\n",
       "      <td>RCCEDIG</td>\n",
       "      <td>NaN</td>\n",
       "      <td>1</td>\n",
       "      <td>P</td>\n",
       "      <td>NaN</td>\n",
       "      <td>17.8</td>\n",
       "      <td>NaN</td>\n",
       "      <td>...</td>\n",
       "      <td>NaN</td>\n",
       "      <td>NaN</td>\n",
       "      <td>NaN</td>\n",
       "      <td>NaN</td>\n",
       "      <td>NaN</td>\n",
       "      <td>30.7</td>\n",
       "      <td>NaN</td>\n",
       "      <td>P13</td>\n",
       "      <td>NaN</td>\n",
       "      <td>2019-07-28 20:22:00</td>\n",
       "    </tr>\n",
       "    <tr>\n",
       "      <th>2019-07-28 18:51:00</th>\n",
       "      <td>2019-07-28</td>\n",
       "      <td>18:51</td>\n",
       "      <td>GRCCEDIG</td>\n",
       "      <td>RCCEDIG</td>\n",
       "      <td>NaN</td>\n",
       "      <td>1</td>\n",
       "      <td>P</td>\n",
       "      <td>NaN</td>\n",
       "      <td>38.4</td>\n",
       "      <td>NaN</td>\n",
       "      <td>...</td>\n",
       "      <td>NaN</td>\n",
       "      <td>NaN</td>\n",
       "      <td>NaN</td>\n",
       "      <td>NaN</td>\n",
       "      <td>NaN</td>\n",
       "      <td>25.3</td>\n",
       "      <td>NaN</td>\n",
       "      <td>P12</td>\n",
       "      <td>NaN</td>\n",
       "      <td>2019-07-28 18:51:00</td>\n",
       "    </tr>\n",
       "    <tr>\n",
       "      <th>2019-07-28 18:36:00</th>\n",
       "      <td>2019-07-28</td>\n",
       "      <td>18:36</td>\n",
       "      <td>GRCCEDIG</td>\n",
       "      <td>RCCEDIG</td>\n",
       "      <td>NaN</td>\n",
       "      <td>1</td>\n",
       "      <td>P</td>\n",
       "      <td>NaN</td>\n",
       "      <td>48.6</td>\n",
       "      <td>NaN</td>\n",
       "      <td>...</td>\n",
       "      <td>NaN</td>\n",
       "      <td>NaN</td>\n",
       "      <td>NaN</td>\n",
       "      <td>NaN</td>\n",
       "      <td>NaN</td>\n",
       "      <td>24.4</td>\n",
       "      <td>NaN</td>\n",
       "      <td>P11</td>\n",
       "      <td>NaN</td>\n",
       "      <td>2019-07-28 18:36:00</td>\n",
       "    </tr>\n",
       "  </tbody>\n",
       "</table>\n",
       "<p>5 rows × 23 columns</p>\n",
       "</div>"
      ],
      "text/plain": [
       "                           Date   Hour Code Site     Site  Level  Type Flask  \\\n",
       "datetime                                                                       \n",
       "2019-09-20 10:53:00  2019-09-20  10:53  GRCCEDIG  RCCEDIG   14.0     2     P   \n",
       "2019-07-29 12:52:00  2019-07-29  12:52  GRCCEDIG  RCCEDIG    NaN     1     P   \n",
       "2019-07-28 20:22:00  2019-07-28  20:22  GRCCEDIG  RCCEDIG    NaN     1     P   \n",
       "2019-07-28 18:51:00  2019-07-28  18:51  GRCCEDIG  RCCEDIG    NaN     1     P   \n",
       "2019-07-28 18:36:00  2019-07-28  18:36  GRCCEDIG  RCCEDIG    NaN     1     P   \n",
       "\n",
       "                     Twater (°C)  Suspended Load    pH  ...  Mg  Ca  HCO3  Cl  \\\n",
       "datetime                                                ...                     \n",
       "2019-09-20 10:53:00         23.3             NaN  7.28  ... NaN NaN  30.7 NaN   \n",
       "2019-07-29 12:52:00          NaN           118.6   NaN  ... NaN NaN   NaN NaN   \n",
       "2019-07-28 20:22:00          NaN            17.8   NaN  ... NaN NaN   NaN NaN   \n",
       "2019-07-28 18:51:00          NaN            38.4   NaN  ... NaN NaN   NaN NaN   \n",
       "2019-07-28 18:36:00          NaN            48.6   NaN  ... NaN NaN   NaN NaN   \n",
       "\n",
       "                     SO4  Conductivity at 25°C  NICB (%)  \\\n",
       "datetime                                                   \n",
       "2019-09-20 10:53:00  NaN                  64.1       NaN   \n",
       "2019-07-29 12:52:00  NaN                  28.1       NaN   \n",
       "2019-07-28 20:22:00  NaN                  30.7       NaN   \n",
       "2019-07-28 18:51:00  NaN                  25.3       NaN   \n",
       "2019-07-28 18:36:00  NaN                  24.4       NaN   \n",
       "\n",
       "                                                               Comment  \\\n",
       "datetime                                                                 \n",
       "2019-09-20 10:53:00  Alc. mesurée en labo le 20/09/2019; autres par...   \n",
       "2019-07-29 12:52:00                                                P24   \n",
       "2019-07-28 20:22:00                                                P13   \n",
       "2019-07-28 18:51:00                                                P12   \n",
       "2019-07-28 18:36:00                                                P11   \n",
       "\n",
       "                     Validate            datetime  \n",
       "datetime                                           \n",
       "2019-09-20 10:53:00       NaN 2019-09-20 10:53:00  \n",
       "2019-07-29 12:52:00       NaN 2019-07-29 12:52:00  \n",
       "2019-07-28 20:22:00       NaN 2019-07-28 20:22:00  \n",
       "2019-07-28 18:51:00       NaN 2019-07-28 18:51:00  \n",
       "2019-07-28 18:36:00       NaN 2019-07-28 18:36:00  \n",
       "\n",
       "[5 rows x 23 columns]"
      ]
     },
     "execution_count": 45,
     "metadata": {},
     "output_type": "execute_result"
    }
   ],
   "source": [
    "data_chem.head()"
   ]
  },
  {
   "cell_type": "code",
   "execution_count": 46,
   "metadata": {},
   "outputs": [
    {
     "data": {
      "text/html": [
       "<div>\n",
       "<style scoped>\n",
       "    .dataframe tbody tr th:only-of-type {\n",
       "        vertical-align: middle;\n",
       "    }\n",
       "\n",
       "    .dataframe tbody tr th {\n",
       "        vertical-align: top;\n",
       "    }\n",
       "\n",
       "    .dataframe thead th {\n",
       "        text-align: right;\n",
       "    }\n",
       "</style>\n",
       "<table border=\"1\" class=\"dataframe\">\n",
       "  <thead>\n",
       "    <tr style=\"text-align: right;\">\n",
       "      <th></th>\n",
       "      <th>Level</th>\n",
       "      <th>Type</th>\n",
       "      <th>Twater (°C)</th>\n",
       "      <th>Suspended Load</th>\n",
       "      <th>pH</th>\n",
       "      <th>Conductivity</th>\n",
       "      <th>Na</th>\n",
       "      <th>K</th>\n",
       "      <th>Mg</th>\n",
       "      <th>Ca</th>\n",
       "      <th>HCO3</th>\n",
       "      <th>Cl</th>\n",
       "      <th>SO4</th>\n",
       "      <th>Conductivity at 25°C</th>\n",
       "      <th>NICB (%)</th>\n",
       "      <th>Validate</th>\n",
       "    </tr>\n",
       "  </thead>\n",
       "  <tbody>\n",
       "    <tr>\n",
       "      <th>count</th>\n",
       "      <td>561.000000</td>\n",
       "      <td>1318.000000</td>\n",
       "      <td>239.000000</td>\n",
       "      <td>340.000000</td>\n",
       "      <td>1065.000000</td>\n",
       "      <td>69.000000</td>\n",
       "      <td>1130.000000</td>\n",
       "      <td>1129.000000</td>\n",
       "      <td>1130.000000</td>\n",
       "      <td>1130.000000</td>\n",
       "      <td>1250.000000</td>\n",
       "      <td>1113.000000</td>\n",
       "      <td>1114.000000</td>\n",
       "      <td>822.000000</td>\n",
       "      <td>1130.000000</td>\n",
       "      <td>0.0</td>\n",
       "    </tr>\n",
       "    <tr>\n",
       "      <th>mean</th>\n",
       "      <td>35.337611</td>\n",
       "      <td>1.205615</td>\n",
       "      <td>22.471130</td>\n",
       "      <td>121.640176</td>\n",
       "      <td>7.022806</td>\n",
       "      <td>55.672464</td>\n",
       "      <td>4.029492</td>\n",
       "      <td>0.446573</td>\n",
       "      <td>0.805398</td>\n",
       "      <td>2.987206</td>\n",
       "      <td>14.804874</td>\n",
       "      <td>4.491041</td>\n",
       "      <td>1.776602</td>\n",
       "      <td>44.272506</td>\n",
       "      <td>0.383817</td>\n",
       "      <td>NaN</td>\n",
       "    </tr>\n",
       "    <tr>\n",
       "      <th>std</th>\n",
       "      <td>21.309709</td>\n",
       "      <td>0.404303</td>\n",
       "      <td>1.160974</td>\n",
       "      <td>206.564466</td>\n",
       "      <td>0.415355</td>\n",
       "      <td>10.359194</td>\n",
       "      <td>1.043677</td>\n",
       "      <td>0.115348</td>\n",
       "      <td>0.334657</td>\n",
       "      <td>1.201292</td>\n",
       "      <td>6.156674</td>\n",
       "      <td>1.250310</td>\n",
       "      <td>0.496980</td>\n",
       "      <td>14.028381</td>\n",
       "      <td>13.247006</td>\n",
       "      <td>NaN</td>\n",
       "    </tr>\n",
       "    <tr>\n",
       "      <th>min</th>\n",
       "      <td>8.000000</td>\n",
       "      <td>1.000000</td>\n",
       "      <td>20.100000</td>\n",
       "      <td>0.300000</td>\n",
       "      <td>5.570000</td>\n",
       "      <td>33.000000</td>\n",
       "      <td>1.831300</td>\n",
       "      <td>0.210000</td>\n",
       "      <td>0.130000</td>\n",
       "      <td>0.738800</td>\n",
       "      <td>4.150000</td>\n",
       "      <td>1.550000</td>\n",
       "      <td>0.760000</td>\n",
       "      <td>18.000000</td>\n",
       "      <td>-92.027346</td>\n",
       "      <td>NaN</td>\n",
       "    </tr>\n",
       "    <tr>\n",
       "      <th>25%</th>\n",
       "      <td>20.000000</td>\n",
       "      <td>1.000000</td>\n",
       "      <td>21.500000</td>\n",
       "      <td>16.700000</td>\n",
       "      <td>6.760000</td>\n",
       "      <td>48.000000</td>\n",
       "      <td>3.218050</td>\n",
       "      <td>0.351200</td>\n",
       "      <td>0.522325</td>\n",
       "      <td>2.002500</td>\n",
       "      <td>9.927500</td>\n",
       "      <td>3.530000</td>\n",
       "      <td>1.380000</td>\n",
       "      <td>33.700000</td>\n",
       "      <td>-5.874655</td>\n",
       "      <td>NaN</td>\n",
       "    </tr>\n",
       "    <tr>\n",
       "      <th>50%</th>\n",
       "      <td>30.000000</td>\n",
       "      <td>1.000000</td>\n",
       "      <td>22.400000</td>\n",
       "      <td>55.750000</td>\n",
       "      <td>7.050000</td>\n",
       "      <td>58.400000</td>\n",
       "      <td>4.013100</td>\n",
       "      <td>0.450000</td>\n",
       "      <td>0.790000</td>\n",
       "      <td>2.870000</td>\n",
       "      <td>13.925000</td>\n",
       "      <td>4.570000</td>\n",
       "      <td>1.733550</td>\n",
       "      <td>43.000000</td>\n",
       "      <td>-0.737985</td>\n",
       "      <td>NaN</td>\n",
       "    </tr>\n",
       "    <tr>\n",
       "      <th>75%</th>\n",
       "      <td>46.000000</td>\n",
       "      <td>1.000000</td>\n",
       "      <td>23.300000</td>\n",
       "      <td>147.500000</td>\n",
       "      <td>7.320000</td>\n",
       "      <td>63.300000</td>\n",
       "      <td>4.873150</td>\n",
       "      <td>0.530000</td>\n",
       "      <td>1.080000</td>\n",
       "      <td>3.960000</td>\n",
       "      <td>19.377500</td>\n",
       "      <td>5.290000</td>\n",
       "      <td>2.130000</td>\n",
       "      <td>53.975000</td>\n",
       "      <td>5.345601</td>\n",
       "      <td>NaN</td>\n",
       "    </tr>\n",
       "    <tr>\n",
       "      <th>max</th>\n",
       "      <td>152.000000</td>\n",
       "      <td>2.000000</td>\n",
       "      <td>25.700000</td>\n",
       "      <td>1702.000000</td>\n",
       "      <td>8.110000</td>\n",
       "      <td>71.500000</td>\n",
       "      <td>6.524400</td>\n",
       "      <td>1.470000</td>\n",
       "      <td>1.650000</td>\n",
       "      <td>6.195300</td>\n",
       "      <td>32.890000</td>\n",
       "      <td>13.082600</td>\n",
       "      <td>4.160000</td>\n",
       "      <td>112.000000</td>\n",
       "      <td>65.565023</td>\n",
       "      <td>NaN</td>\n",
       "    </tr>\n",
       "  </tbody>\n",
       "</table>\n",
       "</div>"
      ],
      "text/plain": [
       "            Level         Type  Twater (°C)  Suspended Load           pH  \\\n",
       "count  561.000000  1318.000000   239.000000      340.000000  1065.000000   \n",
       "mean    35.337611     1.205615    22.471130      121.640176     7.022806   \n",
       "std     21.309709     0.404303     1.160974      206.564466     0.415355   \n",
       "min      8.000000     1.000000    20.100000        0.300000     5.570000   \n",
       "25%     20.000000     1.000000    21.500000       16.700000     6.760000   \n",
       "50%     30.000000     1.000000    22.400000       55.750000     7.050000   \n",
       "75%     46.000000     1.000000    23.300000      147.500000     7.320000   \n",
       "max    152.000000     2.000000    25.700000     1702.000000     8.110000   \n",
       "\n",
       "       Conductivity           Na            K           Mg           Ca  \\\n",
       "count     69.000000  1130.000000  1129.000000  1130.000000  1130.000000   \n",
       "mean      55.672464     4.029492     0.446573     0.805398     2.987206   \n",
       "std       10.359194     1.043677     0.115348     0.334657     1.201292   \n",
       "min       33.000000     1.831300     0.210000     0.130000     0.738800   \n",
       "25%       48.000000     3.218050     0.351200     0.522325     2.002500   \n",
       "50%       58.400000     4.013100     0.450000     0.790000     2.870000   \n",
       "75%       63.300000     4.873150     0.530000     1.080000     3.960000   \n",
       "max       71.500000     6.524400     1.470000     1.650000     6.195300   \n",
       "\n",
       "              HCO3           Cl          SO4  Conductivity at 25°C  \\\n",
       "count  1250.000000  1113.000000  1114.000000            822.000000   \n",
       "mean     14.804874     4.491041     1.776602             44.272506   \n",
       "std       6.156674     1.250310     0.496980             14.028381   \n",
       "min       4.150000     1.550000     0.760000             18.000000   \n",
       "25%       9.927500     3.530000     1.380000             33.700000   \n",
       "50%      13.925000     4.570000     1.733550             43.000000   \n",
       "75%      19.377500     5.290000     2.130000             53.975000   \n",
       "max      32.890000    13.082600     4.160000            112.000000   \n",
       "\n",
       "          NICB (%)  Validate  \n",
       "count  1130.000000       0.0  \n",
       "mean      0.383817       NaN  \n",
       "std      13.247006       NaN  \n",
       "min     -92.027346       NaN  \n",
       "25%      -5.874655       NaN  \n",
       "50%      -0.737985       NaN  \n",
       "75%       5.345601       NaN  \n",
       "max      65.565023       NaN  "
      ]
     },
     "execution_count": 46,
     "metadata": {},
     "output_type": "execute_result"
    }
   ],
   "source": [
    "data_chem.describe()"
   ]
  },
  {
   "cell_type": "code",
   "execution_count": 47,
   "metadata": {},
   "outputs": [
    {
     "name": "stdout",
     "output_type": "stream",
     "text": [
      "<class 'pandas.core.frame.DataFrame'>\n",
      "DatetimeIndex: 1318 entries, 2019-09-20 10:53:00 to 2006-11-09 09:30:00\n",
      "Data columns (total 23 columns):\n",
      " #   Column                Non-Null Count  Dtype         \n",
      "---  ------                --------------  -----         \n",
      " 0   Date                  1318 non-null   object        \n",
      " 1   Hour                  1318 non-null   object        \n",
      " 2   Code Site             1318 non-null   object        \n",
      " 3   Site                  1318 non-null   object        \n",
      " 4   Level                 561 non-null    float64       \n",
      " 5   Type                  1318 non-null   int64         \n",
      " 6   Flask                 1318 non-null   object        \n",
      " 7   Twater (°C)           239 non-null    float64       \n",
      " 8   Suspended Load        340 non-null    float64       \n",
      " 9   pH                    1065 non-null   float64       \n",
      " 10  Conductivity          69 non-null     float64       \n",
      " 11  Na                    1130 non-null   float64       \n",
      " 12  K                     1129 non-null   float64       \n",
      " 13  Mg                    1130 non-null   float64       \n",
      " 14  Ca                    1130 non-null   float64       \n",
      " 15  HCO3                  1250 non-null   float64       \n",
      " 16  Cl                    1113 non-null   float64       \n",
      " 17  SO4                   1114 non-null   float64       \n",
      " 18  Conductivity at 25°C  822 non-null    float64       \n",
      " 19  NICB (%)              1130 non-null   float64       \n",
      " 20  Comment               109 non-null    object        \n",
      " 21  Validate              0 non-null      float64       \n",
      " 22  datetime              1318 non-null   datetime64[ns]\n",
      "dtypes: datetime64[ns](1), float64(15), int64(1), object(6)\n",
      "memory usage: 247.1+ KB\n"
     ]
    }
   ],
   "source": [
    "data_chem.info()"
   ]
  },
  {
   "cell_type": "markdown",
   "metadata": {},
   "source": [
    "##### Extract datetime and suspended Load data only\n",
    "\n",
    "In fact, for this exercice, we only need to keep the fields `datetime` and `Suspended Load` and `Level`\n",
    "\n",
    "1. Create a new pandas DataFrame only containing\n",
    "2. Remove negative value and NaN value\n",
    "3. Plot the `Suspended Load` in function of the `Datetime` (You can use either Matplotlib or Seaborn (or whatever))\n",
    "\n",
    "**hint**\n",
    "- One can remove negative value by creating a mask\n",
    "- For the NaN removal, use the Pandas `.dropna()` function"
   ]
  },
  {
   "cell_type": "code",
   "execution_count": 48,
   "metadata": {},
   "outputs": [],
   "source": [
    "# WRITE YOUR CODE HERE"
   ]
  },
  {
   "cell_type": "markdown",
   "metadata": {},
   "source": [
    "##### Solution to select your subset"
   ]
  },
  {
   "cell_type": "code",
   "execution_count": 49,
   "metadata": {},
   "outputs": [
    {
     "name": "stdout",
     "output_type": "stream",
     "text": [
      "<class 'pandas.core.frame.DataFrame'>\n",
      "DatetimeIndex: 340 entries, 2019-07-29 12:52:00 to 2006-12-05 10:45:00\n",
      "Data columns (total 2 columns):\n",
      " #   Column          Non-Null Count  Dtype         \n",
      "---  ------          --------------  -----         \n",
      " 0   datetime        340 non-null    datetime64[ns]\n",
      " 1   Suspended Load  340 non-null    float64       \n",
      "dtypes: datetime64[ns](1), float64(1)\n",
      "memory usage: 8.0 KB\n"
     ]
    }
   ],
   "source": [
    "data_chem = data_chem[['datetime', 'Suspended Load']]\n",
    "data_chem.dropna(inplace=True)\n",
    "\n",
    "data_chem = data_chem[data_chem['Suspended Load']>0.]\n",
    "data_chem.info()"
   ]
  },
  {
   "cell_type": "code",
   "execution_count": 50,
   "metadata": {},
   "outputs": [
    {
     "data": {
      "image/png": "[encoded data removed]",
      "text/plain": [
       "<Figure size 432x288 with 1 Axes>"
      ]
     },
     "metadata": {
      "needs_background": "light"
     },
     "output_type": "display_data"
    }
   ],
   "source": [
    "# Matplotlib\n",
    "import matplotlib.pyplot as plt\n",
    "plt.scatter(data_chem[\"datetime\"], data_chem[\"Suspended Load\"], s = 0.5)\n",
    "plt.xlabel(\"Date\")\n",
    "plt.ylabel(\"Suspended Load\")\n",
    "plt.grid(True)"
   ]
  },
  {
   "cell_type": "markdown",
   "metadata": {},
   "source": [
    "##### Plot with Seaborn"
   ]
  },
  {
   "cell_type": "code",
   "execution_count": 51,
   "metadata": {},
   "outputs": [
    {
     "data": {
      "text/plain": [
       "Text(0.5, 1.0, ' Suspended loaded over time')"
      ]
     },
     "execution_count": 51,
     "metadata": {},
     "output_type": "execute_result"
    },
    {
     "data": {
      "image/png": "[encoded data removed]",
      "text/plain": [
       "<Figure size 432x288 with 1 Axes>"
      ]
     },
     "metadata": {
      "needs_background": "light"
     },
     "output_type": "display_data"
    }
   ],
   "source": [
    "# Example with Seaborn Library\n",
    "import seaborn as sns\n",
    "sns.scatterplot(x= data_chem[\"datetime\"], y =data_chem[\"Suspended Load\"])\n",
    "plt.grid()\n",
    "plt.title(\" Suspended loaded over time\")"
   ]
  },
  {
   "cell_type": "markdown",
   "metadata": {},
   "source": [
    "#### Hydrological data\n",
    "\n",
    "In this second part, you will have to deal with the files in the variable `filelist_hydro`\n",
    "\n",
    "1. Open all the files and create a unique DataFrace called `data_hydro`.\n",
    "2. Inspect your data.\n",
    "3. Plot the `turbidity` in function of the `datetime`\n",
    "\n",
    "\n",
    "**hints**\n",
    "- Create a first DataFrame with the first file and then concatenate some other DataFrame made with the other files\n",
    "- Think about using `pd.concat` to concatenate the DataFrame"
   ]
  },
  {
   "cell_type": "code",
   "execution_count": 52,
   "metadata": {},
   "outputs": [
    {
     "name": "stdout",
     "output_type": "stream",
     "text": [
      "Dealing with file ./data/HYDRO/Data_CE_DIG_Hydro_2018.csv\n",
      "Dealing with file ./data/HYDRO/Data_CE_DIG_Hydro_2019.csv\n",
      "Dealing with file ./data/HYDRO/Data_CE_DIG_Hydro_2014.csv\n",
      "Dealing with file ./data/HYDRO/Data_CE_DIG_Hydro_2015.csv\n",
      "Dealing with file ./data/HYDRO/Data_CE_DIG_Hydro_2017.csv\n",
      "Dealing with file ./data/HYDRO/Data_CE_DIG_Hydro_2016.csv\n",
      "Dealing with file ./data/HYDRO/Data_CE_DIG_Hydro_2012.csv\n",
      "Dealing with file ./data/HYDRO/Data_CE_DIG_Hydro_2013.csv\n"
     ]
    }
   ],
   "source": [
    "# initiate the dataframe with the first file\n",
    "data_hydro = pd.read_csv(filelist_hydro[0], sep = \",\",  \n",
    "                         na_values = {'-30000.0', \"NAN\",\"1e+10\"},\n",
    "                         comment=\"#\")\n",
    "\n",
    "# concatenate the other files\n",
    "for datafile in filelist_hydro :\n",
    "    print('Dealing with file ' + datafile)\n",
    "    temp = pd.read_csv(datafile, sep = \",\", \n",
    "                       na_values = {'-30000.0', \"NAN\",\"1e+10\"}, \n",
    "                       comment=\"#\")\n",
    "    data_hydro = pd.concat([data_hydro,temp], axis=0, \n",
    "                           ignore_index=True)     \n",
    "          \n",
    "#Convert datetime field to datetime format \n",
    "data_hydro[\"datetime\"]= pd.to_datetime(data_hydro.datetime) # Conversion des dates en objet datetime\n",
    "data_hydro = data_hydro.groupby('datetime').mean()          # utile en cas d'overlap, on prend la valeur moyenne\n",
    "data_hydro['datetime'] =  data_hydro.index\n"
   ]
  },
  {
   "cell_type": "code",
   "execution_count": 53,
   "metadata": {},
   "outputs": [],
   "source": [
    "# WRITE YOUR CODE HERE"
   ]
  },
  {
   "cell_type": "code",
   "execution_count": 54,
   "metadata": {},
   "outputs": [
    {
     "data": {
      "text/html": [
       "<div>\n",
       "<style scoped>\n",
       "    .dataframe tbody tr th:only-of-type {\n",
       "        vertical-align: middle;\n",
       "    }\n",
       "\n",
       "    .dataframe tbody tr th {\n",
       "        vertical-align: top;\n",
       "    }\n",
       "\n",
       "    .dataframe thead th {\n",
       "        text-align: right;\n",
       "    }\n",
       "</style>\n",
       "<table border=\"1\" class=\"dataframe\">\n",
       "  <thead>\n",
       "    <tr style=\"text-align: right;\">\n",
       "      <th></th>\n",
       "      <th>level</th>\n",
       "      <th>discharge</th>\n",
       "      <th>turbidity</th>\n",
       "      <th>conductivity</th>\n",
       "      <th>temperature</th>\n",
       "    </tr>\n",
       "  </thead>\n",
       "  <tbody>\n",
       "    <tr>\n",
       "      <th>count</th>\n",
       "      <td>722105.000000</td>\n",
       "      <td>722105.000000</td>\n",
       "      <td>547116.000000</td>\n",
       "      <td>663546.000000</td>\n",
       "      <td>719533.000000</td>\n",
       "    </tr>\n",
       "    <tr>\n",
       "      <th>mean</th>\n",
       "      <td>21.044671</td>\n",
       "      <td>2.192647</td>\n",
       "      <td>14.128219</td>\n",
       "      <td>51.422528</td>\n",
       "      <td>22.510255</td>\n",
       "    </tr>\n",
       "    <tr>\n",
       "      <th>std</th>\n",
       "      <td>10.447657</td>\n",
       "      <td>3.078745</td>\n",
       "      <td>53.070967</td>\n",
       "      <td>16.990941</td>\n",
       "      <td>1.197750</td>\n",
       "    </tr>\n",
       "    <tr>\n",
       "      <th>min</th>\n",
       "      <td>6.821000</td>\n",
       "      <td>0.360085</td>\n",
       "      <td>0.017000</td>\n",
       "      <td>5.000000</td>\n",
       "      <td>19.060000</td>\n",
       "    </tr>\n",
       "    <tr>\n",
       "      <th>25%</th>\n",
       "      <td>14.348000</td>\n",
       "      <td>0.945925</td>\n",
       "      <td>1.835140</td>\n",
       "      <td>43.000000</td>\n",
       "      <td>21.590000</td>\n",
       "    </tr>\n",
       "    <tr>\n",
       "      <th>50%</th>\n",
       "      <td>18.190000</td>\n",
       "      <td>1.378860</td>\n",
       "      <td>2.975151</td>\n",
       "      <td>54.000000</td>\n",
       "      <td>22.520000</td>\n",
       "    </tr>\n",
       "    <tr>\n",
       "      <th>75%</th>\n",
       "      <td>24.460000</td>\n",
       "      <td>2.301870</td>\n",
       "      <td>4.015494</td>\n",
       "      <td>63.897764</td>\n",
       "      <td>23.300000</td>\n",
       "    </tr>\n",
       "    <tr>\n",
       "      <th>max</th>\n",
       "      <td>222.140000</td>\n",
       "      <td>265.815386</td>\n",
       "      <td>499.953404</td>\n",
       "      <td>283.801020</td>\n",
       "      <td>37.990000</td>\n",
       "    </tr>\n",
       "  </tbody>\n",
       "</table>\n",
       "</div>"
      ],
      "text/plain": [
       "               level      discharge      turbidity   conductivity  \\\n",
       "count  722105.000000  722105.000000  547116.000000  663546.000000   \n",
       "mean       21.044671       2.192647      14.128219      51.422528   \n",
       "std        10.447657       3.078745      53.070967      16.990941   \n",
       "min         6.821000       0.360085       0.017000       5.000000   \n",
       "25%        14.348000       0.945925       1.835140      43.000000   \n",
       "50%        18.190000       1.378860       2.975151      54.000000   \n",
       "75%        24.460000       2.301870       4.015494      63.897764   \n",
       "max       222.140000     265.815386     499.953404     283.801020   \n",
       "\n",
       "         temperature  \n",
       "count  719533.000000  \n",
       "mean       22.510255  \n",
       "std         1.197750  \n",
       "min        19.060000  \n",
       "25%        21.590000  \n",
       "50%        22.520000  \n",
       "75%        23.300000  \n",
       "max        37.990000  "
      ]
     },
     "execution_count": 54,
     "metadata": {},
     "output_type": "execute_result"
    }
   ],
   "source": [
    "data_hydro.describe()"
   ]
  },
  {
   "cell_type": "code",
   "execution_count": 55,
   "metadata": {},
   "outputs": [
    {
     "data": {
      "text/html": [
       "<div>\n",
       "<style scoped>\n",
       "    .dataframe tbody tr th:only-of-type {\n",
       "        vertical-align: middle;\n",
       "    }\n",
       "\n",
       "    .dataframe tbody tr th {\n",
       "        vertical-align: top;\n",
       "    }\n",
       "\n",
       "    .dataframe thead th {\n",
       "        text-align: right;\n",
       "    }\n",
       "</style>\n",
       "<table border=\"1\" class=\"dataframe\">\n",
       "  <thead>\n",
       "    <tr style=\"text-align: right;\">\n",
       "      <th></th>\n",
       "      <th>level</th>\n",
       "      <th>discharge</th>\n",
       "      <th>turbidity</th>\n",
       "      <th>conductivity</th>\n",
       "      <th>temperature</th>\n",
       "      <th>datetime</th>\n",
       "    </tr>\n",
       "    <tr>\n",
       "      <th>datetime</th>\n",
       "      <th></th>\n",
       "      <th></th>\n",
       "      <th></th>\n",
       "      <th></th>\n",
       "      <th></th>\n",
       "      <th></th>\n",
       "    </tr>\n",
       "  </thead>\n",
       "  <tbody>\n",
       "    <tr>\n",
       "      <th>2012-05-18 08:30:00</th>\n",
       "      <td>28.96</td>\n",
       "      <td>3.142280</td>\n",
       "      <td>11.79</td>\n",
       "      <td>43.0</td>\n",
       "      <td>21.89</td>\n",
       "      <td>2012-05-18 08:30:00</td>\n",
       "    </tr>\n",
       "    <tr>\n",
       "      <th>2012-05-18 08:35:00</th>\n",
       "      <td>28.90</td>\n",
       "      <td>3.130049</td>\n",
       "      <td>11.79</td>\n",
       "      <td>43.0</td>\n",
       "      <td>21.89</td>\n",
       "      <td>2012-05-18 08:35:00</td>\n",
       "    </tr>\n",
       "    <tr>\n",
       "      <th>2012-05-18 08:40:00</th>\n",
       "      <td>28.97</td>\n",
       "      <td>3.144321</td>\n",
       "      <td>11.79</td>\n",
       "      <td>43.0</td>\n",
       "      <td>21.89</td>\n",
       "      <td>2012-05-18 08:40:00</td>\n",
       "    </tr>\n",
       "    <tr>\n",
       "      <th>2012-05-18 08:45:00</th>\n",
       "      <td>28.86</td>\n",
       "      <td>3.121910</td>\n",
       "      <td>11.79</td>\n",
       "      <td>43.0</td>\n",
       "      <td>21.91</td>\n",
       "      <td>2012-05-18 08:45:00</td>\n",
       "    </tr>\n",
       "    <tr>\n",
       "      <th>2012-05-18 08:50:00</th>\n",
       "      <td>28.70</td>\n",
       "      <td>3.089483</td>\n",
       "      <td>11.79</td>\n",
       "      <td>43.0</td>\n",
       "      <td>21.91</td>\n",
       "      <td>2012-05-18 08:50:00</td>\n",
       "    </tr>\n",
       "  </tbody>\n",
       "</table>\n",
       "</div>"
      ],
      "text/plain": [
       "                     level  discharge  turbidity  conductivity  temperature  \\\n",
       "datetime                                                                      \n",
       "2012-05-18 08:30:00  28.96   3.142280      11.79          43.0        21.89   \n",
       "2012-05-18 08:35:00  28.90   3.130049      11.79          43.0        21.89   \n",
       "2012-05-18 08:40:00  28.97   3.144321      11.79          43.0        21.89   \n",
       "2012-05-18 08:45:00  28.86   3.121910      11.79          43.0        21.91   \n",
       "2012-05-18 08:50:00  28.70   3.089483      11.79          43.0        21.91   \n",
       "\n",
       "                               datetime  \n",
       "datetime                                 \n",
       "2012-05-18 08:30:00 2012-05-18 08:30:00  \n",
       "2012-05-18 08:35:00 2012-05-18 08:35:00  \n",
       "2012-05-18 08:40:00 2012-05-18 08:40:00  \n",
       "2012-05-18 08:45:00 2012-05-18 08:45:00  \n",
       "2012-05-18 08:50:00 2012-05-18 08:50:00  "
      ]
     },
     "execution_count": 55,
     "metadata": {},
     "output_type": "execute_result"
    }
   ],
   "source": [
    "data_hydro.head()"
   ]
  },
  {
   "cell_type": "code",
   "execution_count": 56,
   "metadata": {},
   "outputs": [
    {
     "name": "stdout",
     "output_type": "stream",
     "text": [
      "<class 'pandas.core.frame.DataFrame'>\n",
      "DatetimeIndex: 732981 entries, 2012-05-18 08:30:00 to 2019-07-25 10:15:00\n",
      "Data columns (total 6 columns):\n",
      " #   Column        Non-Null Count   Dtype         \n",
      "---  ------        --------------   -----         \n",
      " 0   level         722105 non-null  float64       \n",
      " 1   discharge     722105 non-null  float64       \n",
      " 2   turbidity     547116 non-null  float64       \n",
      " 3   conductivity  663546 non-null  float64       \n",
      " 4   temperature   719533 non-null  float64       \n",
      " 5   datetime      732981 non-null  datetime64[ns]\n",
      "dtypes: datetime64[ns](1), float64(5)\n",
      "memory usage: 39.1 MB\n"
     ]
    }
   ],
   "source": [
    "data_hydro.info()"
   ]
  },
  {
   "cell_type": "code",
   "execution_count": 57,
   "metadata": {},
   "outputs": [
    {
     "data": {
      "image/png": "[encoded data removed]",
      "text/plain": [
       "<Figure size 432x288 with 1 Axes>"
      ]
     },
     "metadata": {
      "needs_background": "light"
     },
     "output_type": "display_data"
    }
   ],
   "source": [
    "plt.figure()\n",
    "plt.scatter(data_hydro[\"datetime\"], data_hydro[\"turbidity\"], s = 0.5)\n",
    "plt.xlabel(\"Date\")\n",
    "plt.ylabel(\"Turbidity\")\n",
    "plt.grid(True)"
   ]
  },
  {
   "cell_type": "markdown",
   "metadata": {},
   "source": [
    "## Synchronize the data\n",
    "The goal here is to get the same time vector on the both structure. But the sampling is not the same for the both set of data.\n",
    "\n",
    "To ease your life, the next part is done for you. Keep the method somewhere in case you need to use it someday.\n",
    "\n",
    "- We first check the common interval\n",
    "- Upsample the date to get the same sampling as data_chem\n",
    "- Match the data "
   ]
  },
  {
   "cell_type": "markdown",
   "metadata": {},
   "source": [
    "### Synchronisation : the tricks \n",
    "\n",
    "You just have to execute the following cell."
   ]
  },
  {
   "cell_type": "code",
   "execution_count": 58,
   "metadata": {},
   "outputs": [],
   "source": [
    "mask = data_chem['datetime'] >= data_hydro.datetime[0] # premiere date de l'hydro\n",
    "data_chem = data_chem.loc[mask]\n",
    "\n",
    "del mask\n",
    "\n",
    "mask    = data_chem['Suspended Load'] >= 0.\n",
    "data_ch = data_chem.loc[mask]\n",
    "\n",
    "turbidity   = data_hydro[[\"turbidity\"]]\n",
    "water_level = data_hydro[[\"level\"]]\n",
    "\n",
    "upsampled   = turbidity.resample('1T')\n",
    "turbidity_by_minute = upsampled.interpolate(method='linear')\n",
    "\n",
    "upsampled   = water_level.resample('1T')\n",
    "water_level_by_minute = upsampled.interpolate(method='linear')\n",
    "\n",
    "del upsampled\n",
    "\n",
    "# How to use pandas to find consecutive same data in time series\n",
    "# https://stackoverflow.com/questions/26911851/how-to-use-pandas-to-find-consecutive-same-data-in-time-series\n",
    "\n",
    "turbidity['value_grp'] = (np.isnan(turbidity.turbidity)).astype('int')\n",
    "turbidity['value_grp'] = (turbidity['value_grp'].diff(1) != 0).astype('int').cumsum()\n",
    "turbidity['Date'] = turbidity.index\n",
    "\n",
    "\n",
    "water_level['value_grp'] = (np.isnan(water_level.level)).astype('int')\n",
    "water_level['value_grp'] = (water_level['value_grp'].diff(1) != 0).astype('int').cumsum()\n",
    "water_level['Date']      = water_level.index\n",
    "\n",
    "\n",
    "\n",
    "# decoupage par paquets de donnees de turbidity\n",
    "check = pd.DataFrame({'BeginDate' : turbidity.groupby('value_grp').Date.first(), \n",
    "              'EndDate' : turbidity.groupby('value_grp').Date.last(),\n",
    "              'Consecutive' : turbidity.groupby('value_grp').size(),\n",
    "              'sum' : turbidity.groupby('value_grp').turbidity.sum().astype('float')}).reset_index(drop=True)   \n",
    "\n",
    "    \n",
    "for i in range(len(check)):\n",
    "    if check['sum'][i] > 0. : # le morceau contient des donnees car la somme des valeurs est positive\n",
    "        continue\n",
    "    else:\n",
    "        if check['Consecutive'][i] > 3. :  # le chunk contient trop de nan pour une interpolation correct \n",
    "                                           # donc valeurs de linterpolation changé en NAN\n",
    "            turbidity_by_minute[check['BeginDate'][i]:check['EndDate'][i]] = np.NaN\n",
    "            water_level_by_minute[check['BeginDate'][i]:check['EndDate'][i]] = np.NaN\n",
    "\n",
    "       \n",
    "common = turbidity_by_minute.index.intersection(data_ch['Suspended Load'].index)\n",
    "suspended_load = data_ch['Suspended Load'].loc[common]\n",
    "\n",
    "turbidity_by_minute            = turbidity_by_minute.loc[common]\n",
    "matching_turbidity_by_minute   = turbidity_by_minute.loc[common]\n",
    "matching_water_level_by_minute = water_level_by_minute.loc[common]\n",
    "\n",
    "turbidity_by_minute   = matching_turbidity_by_minute        \n",
    "water_level_by_minute = matching_water_level_by_minute    "
   ]
  },
  {
   "cell_type": "code",
   "execution_count": 59,
   "metadata": {},
   "outputs": [
    {
     "data": {
      "image/png": "[encoded data removed]",
      "text/plain": [
       "<Figure size 576x432 with 3 Axes>"
      ]
     },
     "metadata": {
      "needs_background": "light"
     },
     "output_type": "display_data"
    }
   ],
   "source": [
    "fig = plt.figure(figsize=(8,6))\n",
    "\n",
    "ax1 = plt.subplot(311)\n",
    "plt.plot(suspended_load[:],'.')\n",
    "plt.grid()\n",
    "plt.ylabel('$C_{S}$ [mg/L]')\n",
    "\n",
    "ax2 = plt.subplot(312, sharex=ax1)\n",
    "plt.plot(matching_turbidity_by_minute,'.')\n",
    "plt.ylabel('T [NTU]')\n",
    "plt.grid()\n",
    "fig.tight_layout()\n",
    "\n",
    "ax3 = plt.subplot(313, sharex=ax1)\n",
    "plt.plot(matching_water_level_by_minute,'.')\n",
    "plt.ylabel('h [cm]')\n",
    "plt.grid()\n",
    "fig.tight_layout()"
   ]
  },
  {
   "cell_type": "code",
   "execution_count": 60,
   "metadata": {},
   "outputs": [],
   "source": [
    "SS   = np.array(suspended_load)\n",
    "TUR  = np.array(matching_turbidity_by_minute)\n",
    "H    = np.array(matching_water_level_by_minute)\n",
    "\n",
    "SS  = np.squeeze(SS)\n",
    "TUR = np.squeeze(TUR)\n",
    "H   = np.squeeze(H)\n",
    "\n",
    "mask = ~np.isnan(TUR)\n",
    "\n",
    "SS   = SS[mask]\n",
    "TUR  = TUR[mask]\n",
    "H    = H[mask]\n",
    "\n",
    "TUR1,SS = zip(*sorted(zip(TUR,SS)))\n",
    "TUR,H = zip(*sorted(zip(TUR,H)))\n",
    "\n",
    "del TUR1"
   ]
  },
  {
   "cell_type": "code",
   "execution_count": 61,
   "metadata": {},
   "outputs": [],
   "source": [
    "data = pd.DataFrame({'turbidity':TUR, 'level':H, 'Suspended Load': SS})"
   ]
  },
  {
   "cell_type": "markdown",
   "metadata": {},
   "source": [
    "### Questions"
   ]
  },
  {
   "cell_type": "markdown",
   "metadata": {},
   "source": [
    "The final DataFrame you will have to deal with is `data`\n",
    "\n",
    "**Have a quick view on your data**\n",
    "\n",
    "Using scatter_matrix from pandas, one can have a look on all the variable of the dataset Histogram in diagonal and plot \n",
    "\n",
    "**Make two plots (horizontal subplots)**:\n",
    "1. Suspended Load in function of the Turbidity\n",
    "2. Suspended Load in function of the Level\n"
   ]
  },
  {
   "cell_type": "code",
   "execution_count": 62,
   "metadata": {},
   "outputs": [],
   "source": [
    "# Have a quick view on your data -> WRITE YOUR CODE HERE"
   ]
  },
  {
   "cell_type": "markdown",
   "metadata": {},
   "source": [
    "#### Solution"
   ]
  },
  {
   "cell_type": "code",
   "execution_count": 63,
   "metadata": {},
   "outputs": [
    {
     "data": {
      "text/plain": [
       "array([[<AxesSubplot:xlabel='turbidity', ylabel='turbidity'>,\n",
       "        <AxesSubplot:xlabel='level', ylabel='turbidity'>,\n",
       "        <AxesSubplot:xlabel='Suspended Load', ylabel='turbidity'>],\n",
       "       [<AxesSubplot:xlabel='turbidity', ylabel='level'>,\n",
       "        <AxesSubplot:xlabel='level', ylabel='level'>,\n",
       "        <AxesSubplot:xlabel='Suspended Load', ylabel='level'>],\n",
       "       [<AxesSubplot:xlabel='turbidity', ylabel='Suspended Load'>,\n",
       "        <AxesSubplot:xlabel='level', ylabel='Suspended Load'>,\n",
       "        <AxesSubplot:xlabel='Suspended Load', ylabel='Suspended Load'>]],\n",
       "      dtype=object)"
      ]
     },
     "execution_count": 63,
     "metadata": {},
     "output_type": "execute_result"
    },
    {
     "data": {
      "image/png": "[encoded data removed]",
      "text/plain": [
       "<Figure size 504x288 with 9 Axes>"
      ]
     },
     "metadata": {
      "needs_background": "light"
     },
     "output_type": "display_data"
    }
   ],
   "source": [
    "from pandas.plotting import scatter_matrix\n",
    "scatter_matrix(data, grid=True, figsize= (7,4),  hist_kwds= {'bins':100})"
   ]
  },
  {
   "cell_type": "code",
   "execution_count": 64,
   "metadata": {},
   "outputs": [],
   "source": [
    "# Make two plots -> WRITE YOUR CODE HERE"
   ]
  },
  {
   "cell_type": "code",
   "execution_count": 65,
   "metadata": {},
   "outputs": [
    {
     "data": {
      "image/png": "[encoded data removed]",
      "text/plain": [
       "<Figure size 576x432 with 2 Axes>"
      ]
     },
     "metadata": {
      "needs_background": "light"
     },
     "output_type": "display_data"
    }
   ],
   "source": [
    "plt.figure(figsize=(8,6))\n",
    "\n",
    "ax = plt.subplot(121)\n",
    "ax.plot(data['turbidity'], data['Suspended Load'],'.')\n",
    "\n",
    "ax.set_xlabel('T (NTU)')\n",
    "ax.set_ylabel('$C_{S}$ (mg/L)')\n",
    "ax.set_aspect(1.0/ax.get_data_ratio(), adjustable='box')\n",
    "ax.grid(True)\n",
    "ax1 = plt.subplot(122,sharey = ax)\n",
    "ax1.plot(data['level'], data['Suspended Load'],'.')\n",
    "ax1.set_xlabel('h [cm]')\n",
    "ax1.set_ylabel('$C_{S}$ [mg/L]')\n",
    "ax1.grid(True)\n",
    "plt.xlim(0,np.nanmax(H)+10)\n",
    "x0,x1 = ax1.get_xlim()\n",
    "y0,y1 = ax1.get_ylim()\n",
    "ax1.set_aspect(abs(x1-x0)/abs(y1-y0))\n",
    "\n",
    "plt.tight_layout()"
   ]
  },
  {
   "cell_type": "markdown",
   "metadata": {},
   "source": [
    "Check that you plot is the same as \n",
    "\n",
    "\n",
    "<img src=\"./Figures/Plot Cs_h.png\" witdh=\"100\">"
   ]
  },
  {
   "cell_type": "markdown",
   "metadata": {},
   "source": [
    "## Select, apply, train a model\n",
    "\n",
    "It's now time to fit the model. We are trying several models...\n",
    "\n",
    "\n",
    "But before, let us give you a **Quick remind about the Scikit-Learn Design** \n",
    "It's a quote from Aurelien Geron, _Hands-on Machine Learning with Scikit-Learn, Keras, and TensorFlow_"
   ]
  },
  {
   "cell_type": "markdown",
   "metadata": {},
   "source": [
    "\n",
    "** Quick remind about the Scikit-Learn Design** (from A. Geron, _Hands-on Machine Learning with Scikit-Learn, Keras, and TensorFlow_)\n",
    "\n",
    "Scikit-Learn’s API is remarkably well designed. The main principles are \n",
    "\n",
    "**Consistency**. All objects share a consistent and simple interface:\n",
    "\n",
    "- **Estimators**. Any object that can estimate some parameters based on a dataset is called an estimator (e.g., an imputer is an estimator). The estimation itself is performed by the fit() method, and it takes only a dataset as a parameter (or two for supervised learning algorithms; the second dataset contains the labels). Any other parameter needed to guide the estimation process is con‐ sidered a hyperparameter (such as an imputer’s strategy), and it must be set as an instance variable (generally via a constructor parameter).\n",
    "\n",
    "- **Transformers**. Some estimators (such as an imputer) can also transform a dataset; these are called transformers. Once again, the API is quite simple: the transformation is performed by the transform() method with the dataset to transform as a parameter. It returns the transformed dataset. This transforma‐ tion generally relies on the learned parameters, as is the case for an imputer. All transformers also have a convenience method called fit_transform() that is equivalent to calling fit() and then transform() (but sometimes fit_transform() is optimized and runs much faster).\n",
    "\n",
    "- **Predictors**. Finally, some estimators are capable of making predictions given a dataset; they are called predictors. For example, the LinearRegression model in the previous chapter was a predictor: it predicted life satisfaction given a country’s GDP per capita. A predictor has a predict() method that takes a dataset of new instances and returns a dataset of corresponding predictions. It also has a score() method that measures the quality of the predictions given a test set (and the corresponding labels in the case of supervised learning algorithms).\n",
    "\n",
    "- **Inspection**. All the estimator’s hyperparameters are accessible directly via public instance variables (e.g., imputer.strategy), and all the estimator’s learned parameters are also accessible via public instance variables with an underscore suffix (e.g., imputer.statistics_).\n",
    "\n",
    "- **Nonproliferation of classes**. Datasets are represented as NumPy arrays or SciPy sparse matrices, instead of homemade classes. Hyperparameters are just regular Python strings or numbers.\n",
    "\n",
    "- **Composition**. Existing building blocks are reused as much as possible. For example, it is easy to create a Pipeline estimator from an arbitrary sequence of transformers followed by a final estimator, as we will see.\n",
    "\n",
    "- **Sensible defaults**. Scikit-Learn provides reasonable default values for most parameters, making it easy to create a baseline working system quickly.\n"
   ]
  },
  {
   "cell_type": "markdown",
   "metadata": {},
   "source": [
    "### Linear regression\n",
    "\n",
    "No need to use scikit-learn to do linear regression but let's learn to do with this library anyway.\n",
    "\n",
    "To import the Linear Regression methods : \n",
    "`from sklearn.linear_model import LinearRegression`"
   ]
  },
  {
   "cell_type": "markdown",
   "metadata": {},
   "source": [
    "#### Questions\n",
    "\n",
    "1. Apply a classic linear regression on the data.\n",
    "- Find the coefficients of the fit\n",
    "- Give the score of the result\n",
    "\n",
    "2. How good is your model ? \n",
    "- Apply your model to predict values using your input dataset: `myprediction = model.predict(dataset)`\n",
    "- Measure the **MAE** (Mean Absolute Error) to evaluate the quality of your model: \n",
    "\n",
    "`from sklearn.metrics import mean_absolute_error`\n",
    "\n",
    "`mymae = mean_absolute_error(myprediction-labeldata)`\n",
    "\n",
    "In our case, `labeldata` is the Suspended Load vector"
   ]
  },
  {
   "cell_type": "code",
   "execution_count": 66,
   "metadata": {},
   "outputs": [],
   "source": [
    "# WRITE YOUR CODE HERE"
   ]
  },
  {
   "cell_type": "markdown",
   "metadata": {},
   "source": [
    "#### Elements of solution: \n",
    "Click below to see the solution"
   ]
  },
  {
   "cell_type": "code",
   "execution_count": 67,
   "metadata": {},
   "outputs": [
    {
     "name": "stdout",
     "output_type": "stream",
     "text": [
      "Independent term [47.00072313] Estimated coefficient [[1.4319755]]\n",
      "Score Linear Reg:  0.11127913171259796\n"
     ]
    },
    {
     "data": {
      "image/png": "[encoded data removed]",
      "text/plain": [
       "<Figure size 432x288 with 1 Axes>"
      ]
     },
     "metadata": {
      "needs_background": "light"
     },
     "output_type": "display_data"
    }
   ],
   "source": [
    "#Remane the vectors\n",
    "\n",
    "TUR= data[\"turbidity\"].to_numpy().reshape(len(data[\"turbidity\"]),1)\n",
    "SS = data[\"Suspended Load\"].to_numpy().reshape(len(data[\"Suspended Load\"]),1)\n",
    "\n",
    "\n",
    "# Apply the regression on the \"raw\" data\n",
    "\n",
    "from sklearn.linear_model import LinearRegression, RANSACRegressor\n",
    "\n",
    "# Create linear regression object\n",
    "lin_reg = LinearRegression()\n",
    "\n",
    "# Train the model using the training sets\n",
    "lin_reg.fit(TUR, SS)\n",
    "print(\"Independent term\", lin_reg.intercept_, \"Estimated coefficient\", lin_reg.coef_)\n",
    "\n",
    "print(\"Score Linear Reg: \", lin_reg.score(TUR, SS))\n",
    "# Print on the previous plot\n",
    "fig, ax = plt.subplots(ncols = 1, nrows = 1, num='Turbidity vs. Suspended Load')\n",
    "ax.scatter(data[\"turbidity\"], data[\"Suspended Load\"], s=1)\n",
    "ax.axes.set_xlabel(\"Turbidity\")\n",
    "ax.axes.set_ylabel(\"Suspended Load\")\n",
    "plt.title(\"Suspended Load vs. Turbidity\")\n",
    "plt.grid()\n",
    "ax.plot(TUR, lin_reg.predict(TUR), color='red',linewidth=1)\n",
    "plt.show()"
   ]
  },
  {
   "cell_type": "code",
   "execution_count": 68,
   "metadata": {},
   "outputs": [
    {
     "data": {
      "text/plain": [
       "65.01288017170367"
      ]
     },
     "execution_count": 68,
     "metadata": {},
     "output_type": "execute_result"
    }
   ],
   "source": [
    "from sklearn.metrics import mean_absolute_error\n",
    "\n",
    "predicted_SS = lin_reg.predict(TUR)\n",
    "mean_absolute_error(SS, predicted_SS)"
   ]
  },
  {
   "cell_type": "code",
   "execution_count": null,
   "metadata": {},
   "outputs": [],
   "source": []
  },
  {
   "cell_type": "markdown",
   "metadata": {},
   "source": [
    "### Robust linear regression\n",
    "\n",
    "As you can see, the data have some outiers. Is is possible to improve the result of the fit ? \n",
    "\n",
    "Just as an example, apply a RANSAC regression on the data.\n",
    "- Coefficient ? \n",
    "- Plot of the fit\n",
    "- Score of the result\n",
    "- Comparison with the classical LR -> Comments ?"
   ]
  },
  {
   "cell_type": "code",
   "execution_count": 69,
   "metadata": {},
   "outputs": [],
   "source": [
    "# WRITE YOUR CODE HERE"
   ]
  },
  {
   "cell_type": "code",
   "execution_count": 70,
   "metadata": {},
   "outputs": [
    {
     "name": "stdout",
     "output_type": "stream",
     "text": [
      "Score LR on log data :  -1502.9345252205956\n",
      "Score RANSAC:  0.6054317965047715\n"
     ]
    }
   ],
   "source": [
    "# Apply the classical regression on the log data\n",
    "TUR_log = np.log(TUR)\n",
    "SS_log  = np.log(SS)\n",
    "\n",
    "lin_reg_log = LinearRegression()\n",
    "lin_reg_log.fit(TUR_log, SS_log)\n",
    "\n",
    "print(\"Score LR on log data : \", lin_reg.score(TUR_log, SS_log))\n",
    "\n",
    "# Robustly fit linear model with RANSAC algorithm to avoid outliers in the fit\n",
    "#      Méthode itérative utilisée lorsque l'ensemble de données observées peut contenir \n",
    "#      des valeurs aberrantes (outliers). Il s'agit d'un algorithme non-déterministe dans \n",
    "#      le sens où il produit un résultat correct avec une certaine probabilité seulement, \n",
    "#      celle-ci augmentant à mesure que le nombre d'itérations est grand. (WP)\n",
    "\n",
    "ransac_log = RANSACRegressor()\n",
    "ransac_log.fit(TUR_log, SS_log)\n",
    "inlier_mask = ransac_log.inlier_mask_\n",
    "outlier_mask = np.logical_not(inlier_mask)\n",
    "line_y_ransac = ransac_log.predict(TUR_log)\n",
    "\n",
    "print(\"Score RANSAC: \", ransac_log.score(TUR_log, SS_log))"
   ]
  },
  {
   "cell_type": "code",
   "execution_count": 71,
   "metadata": {},
   "outputs": [
    {
     "name": "stdout",
     "output_type": "stream",
     "text": [
      "Score LR2 on log data:  0.6214665332438583\n"
     ]
    }
   ],
   "source": [
    "\n",
    "lin_reg_log2 = LinearRegression()\n",
    "lin_reg_log2.fit(SS_log, TUR_log)\n",
    "print(\"Score LR2 on log data: \", lin_reg_log2.score(SS_log, TUR_log))"
   ]
  },
  {
   "cell_type": "markdown",
   "metadata": {},
   "source": [
    "##### Plot, comparison, conclusion"
   ]
  },
  {
   "cell_type": "code",
   "execution_count": 72,
   "metadata": {},
   "outputs": [
    {
     "data": {
      "text/plain": [
       "<matplotlib.legend.Legend at 0x15abf85d0>"
      ]
     },
     "execution_count": 72,
     "metadata": {},
     "output_type": "execute_result"
    },
    {
     "data": {
      "image/png": "[encoded data removed]",
      "text/plain": [
       "<Figure size 576x360 with 1 Axes>"
      ]
     },
     "metadata": {
      "needs_background": "light"
     },
     "output_type": "display_data"
    }
   ],
   "source": [
    "fig = plt.figure(figsize=(8,5))\n",
    "plt.plot(TUR_log,SS_log,'.')\n",
    "plt.xlabel('Turbidity')\n",
    "plt.ylabel('Suspended Load')\n",
    "plt.grid(which = \"both\")\n",
    "fig.tight_layout()\n",
    "\n",
    "plt.plot(TUR_log, lin_reg_log.predict(TUR_log), \n",
    "         color='green',linewidth=1, \n",
    "         label=\"Linear Reg.\")\n",
    "\n",
    "plt.plot(lin_reg_log2.predict(SS_log), SS_log,\n",
    "         color='blue',linewidth=1, \n",
    "         label=\"Linear Reg 2.\")\n",
    "\n",
    "\n",
    "plt.plot(TUR_log, line_y_ransac, color='red',\n",
    "         linewidth=1, label = \"RANSAC Reg.\")\n",
    "\n",
    "plt.legend()"
   ]
  },
  {
   "cell_type": "markdown",
   "metadata": {},
   "source": [
    "### Introduction to PCA\n",
    "\n",
    "As you've seen during the lectures, *Principal Component Analysis* (PCA) is by far the most popular dimensionality reduction algorithm. First it identifies the hyperplane that lies closest to the data, and then it projects the data onto it.\n",
    "\n",
    "But what lower dimensional hyperplane to choose ? We have to choose one axis which preserve the maximum variance. From math point of view, it is the axis which minimizes the mean square distribution between the original data and its projection on the axis. \n",
    "\n",
    "\n",
    "In this part, we are going to apply the PCA to modelise the relation between the turbidity and the suspended load. \n"
   ]
  },
  {
   "cell_type": "markdown",
   "metadata": {},
   "source": [
    "#### Quick remind on what the PCA is. \n",
    "\n",
    "By definition, the PCA is the way to project the data in a lower dimension base. The base is choosed in order to maximize the variance of the projected data.\n",
    "\n",
    "For example: \n",
    "\n",
    "- Let's say that we have data in 2 dimensions ($D=2$) and we want to find project into a single dimension space ($M=1$ with the vector $u_1$). \n",
    "\n",
    "The variance of the projected data in $M=1$ is \n",
    "\n",
    "$\\begin{equation}\n",
    "V = \\frac{1}{N}\\sum\\limits_{n=1}^{N} (u_1^Tx_n -u_1^T\\bar{x})^2 \\tag{1}\n",
    "\\end{equation}$ \n",
    "\n",
    "where $u_1^Tx_n$ is the projection of the point $x_n$ in the $u_1$ space. \n",
    "\n",
    "$\\begin{align*}\n",
    "V &= \\frac{1}{N}\\sum\\limits_{n=1}^{N} (u_1^T(x_n -\\bar{x}))^2 \\\\\n",
    "          &=\\frac{1}{N}\\sum\\limits_{n=1}^{N} u_1^T.(x_n -\\bar{x}).(x_n -\\bar{x})^T.u_1 \\\\\n",
    "          &=u_1^T.\\big\\lbrace\\frac{1}{N}\\sum\\limits_{n=1}^{N} (x_n -\\bar{x}).(x_n -\\bar{x})^T)\\big\\rbrace.u_1 \\\\ \\\\\n",
    "          &= u_1^T.S.u_1\n",
    "\\end{align*} \\tag{2}$ \n",
    "\n",
    "where $S$ is the covariance matrix and $\\bar{x}$ is the average of the data $x_n$. \n",
    "\n",
    "Now, we have to maximize the variance. We constraint the norm of $u_1$ to be equal to $1$ and then, we maximize.\n",
    "\n",
    "It can be easely expressed with the [Lagrangian multipliers](https://en.wikipedia.org/wiki/Lagrange_multiplier). \n",
    "\n",
    "$\\begin{equation}\n",
    "\\mathcal{L} = u_1^T.S.u_1 + \\lambda_1(1-u_1^Tu_1)\n",
    "\\tag{3}\n",
    "\\end{equation} $ \n",
    "\n",
    "Then we estimate the gradient in regards to $u_1$ which is equal to $0$.\n",
    "\n",
    "Finally after calculations, we obtain:\n",
    "\n",
    "$\\begin{equation}\n",
    "Su_1 = \\lambda_1u_1\n",
    "\\tag{4}\n",
    "\\end{equation}$ \n",
    "\n",
    "It means that $u_1$ is the eigenvector of $S$ and $\\lambda_1$ the eigenvalue. \n",
    "\n",
    "So, if $u_1$ is an eigenvector of $S$, the variance is equal to:\n",
    "\n",
    "$\\begin{equation}\n",
    "V= u_1^T.S.u_1 = u_1^T.(\\lambda_1.u_1) = \\lambda_1\n",
    "\\tag{5}\n",
    "\\end{equation}$ \n",
    "\n",
    "So, to maximize the variance, we need to take de eigenvector $u_1$ corresponding to the highest eigenvalue $\\lambda_1$.\n",
    "\n",
    "- In case $M>1$, we are dealing the problem iterativaly. Each time, we are looking for another projection which maximize the variance and which is orthogonal to the previous ones. \n",
    "\n",
    "The projected data $y(x)$ on the $M$ dimensionnal base is finally given by the following expression:\n",
    "\n",
    "$\\begin{equation}\n",
    "y(x) = (U_{:,1:M})^T.x\n",
    "\\tag{6}\n",
    "\\end{equation}$ \n",
    "where $U$ is the matrix of the eigenvectors of the covariance matrix $S$.\n"
   ]
  },
  {
   "cell_type": "markdown",
   "metadata": {},
   "source": [
    "#### Back to the problem... \n",
    "\n",
    "Let's reduce the notation by using the two following variables for the turbidity and the suspended load values."
   ]
  },
  {
   "cell_type": "code",
   "execution_count": 73,
   "metadata": {},
   "outputs": [],
   "source": [
    "TUR = data[\"turbidity\"]\n",
    "SS  = data[\"Suspended Load\"]"
   ]
  },
  {
   "cell_type": "markdown",
   "metadata": {},
   "source": [
    "#### Questions\n",
    "1. Using `numpy`, estimate the covariance matrix of the log of theses two vectors\n",
    "2. Find the Eigen values and the Eigen vectors of the covariance matrix.\n",
    "3. Calculate the coefficients of the linear equation using the Eigen values.\n",
    "\n",
    "**hint**\n",
    "`np.cov()` and `np.log` and `np.linalg.eig` could be useful here"
   ]
  },
  {
   "cell_type": "code",
   "execution_count": 74,
   "metadata": {},
   "outputs": [],
   "source": [
    "# WRITE YOUR CODE HERE"
   ]
  },
  {
   "cell_type": "code",
   "execution_count": 75,
   "metadata": {},
   "outputs": [
    {
     "name": "stdout",
     "output_type": "stream",
     "text": [
      "1. Covariance matrix: \n",
      "[[0.87448807 0.91085728]\n",
      " [0.91085728 1.52661326]]\n",
      "\n",
      "2. Eigen values: \n",
      "[0.23309121 2.16801013]\n",
      "\n",
      "2. Eigen vectors: \n",
      "[[-0.81762758 -0.57574746]\n",
      " [ 0.57574746 -0.81762758]]\n",
      "\n",
      "3. Coefficients of the linear equation:\n",
      "a_acp=  1.420114961326574  b_acp=  -0.6655517375119775\n"
     ]
    }
   ],
   "source": [
    "mat_cov2 = np.cov(np.log(TUR),np.log(SS))\n",
    "print(\"1. Covariance matrix: \")\n",
    "print(mat_cov2)\n",
    "eigenval, eigenvec = np.linalg.eig(mat_cov2)\n",
    "\n",
    "print(\"\\n2. Eigen values: \")\n",
    "print(eigenval)\n",
    "print(\"\\n2. Eigen vectors: \")\n",
    "print(eigenvec)\n",
    "\n",
    "print(\"\\n3. Coefficients of the linear equation:\")\n",
    "a_acp = eigenvec[:,1][1]/eigenvec[:,1][0]\n",
    "b_acp = np.mean((np.log(SS)))-a_acp*np.mean((np.log(TUR)))\n",
    "print(\"a_acp= \", a_acp, \" b_acp= \", b_acp)"
   ]
  },
  {
   "cell_type": "markdown",
   "metadata": {},
   "source": [
    "In fact the relation between the turbidity and the suspended load can be modelised as a _power low_\n",
    "\n",
    "%%%%%%%%%% ECRIRE L'EQUATION EXACTE %%%%%%%%%%%\n",
    "SL_acp = np.exp(b_acp)*(TUR_x**a_acp)"
   ]
  },
  {
   "cell_type": "markdown",
   "metadata": {},
   "source": [
    "#### Questions\n",
    "1. Create a turbidity vector `TUR_x` from $[0,1000]$\n",
    "2. Create a vector `SL_acp` using the coefficients of the PCA over the values of `TUR_x`"
   ]
  },
  {
   "cell_type": "code",
   "execution_count": 76,
   "metadata": {},
   "outputs": [],
   "source": [
    "# WRITE YOUR CODE HERE"
   ]
  },
  {
   "cell_type": "code",
   "execution_count": 79,
   "metadata": {},
   "outputs": [
    {
     "data": {
      "image/png": "[encoded data removed]",
      "text/plain": [
       "<Figure size 360x288 with 1 Axes>"
      ]
     },
     "metadata": {
      "needs_background": "light"
     },
     "output_type": "display_data"
    }
   ],
   "source": [
    "TUR_x = TUR ##np.arange(1,10**3)\n",
    "SL_acp = np.exp(b_acp)*(TUR**a_acp)\n",
    "n = len(SL_acp)\n",
    "\n",
    "\n",
    "###CONFIDENCE INTERVAL / PREDICTION INTERVAL\n",
    "#The equations can be found here: http://www2.stat.duke.edu/~tjl13/s101/slides/unit6lec3H.pdf\n",
    "#Student t-value p<0.05 95%\n",
    "tt = stats.t.ppf(1-0.025,n-2)\n",
    "###In [21]:\n",
    "std_residual_SL = np.sqrt(np.sum(np.power(SL_acp-SS,2))/(n-2))\n",
    "##In [22]:\n",
    "y_ci_above = SL_acp +\\\n",
    "tt*std_residual_SL*np.sqrt((1/n)+np.power(TUR_x-np.mean(TUR_x),2)\n",
    "                          /(n-1)/np.var(TUR_x))\n",
    "\n",
    "y_ci_below = SL_acp -\\\n",
    "tt*std_residual_SL*np.sqrt((1/n)+np.power(TUR_x-np.mean(TUR_x),2)\n",
    "                          /(n-1)/np.var(TUR_x))\n",
    "\n",
    "\n",
    "fig = plt.figure(figsize=(5,4))\n",
    "ax = plt.subplot(111)\n",
    "\n",
    "ax.plot(TUR, SS,'.', alpha=0.5)\n",
    "plt.plot(TUR_x, SL_acp, color = 'deeppink',\n",
    "         label='$C_s= %1.3f T ^{%1.2f} $'%(np.exp(b_acp), a_acp))\n",
    "plt.fill_between(TUR,y_ci_below,y_ci_above,color='green',alpha=0.1,label='95% CI')\n",
    "\n",
    "plt.xlabel('T (NTU)')\n",
    "plt.ylabel('$C_S$ (mg/L)')\n",
    "plt.xscale('log')\n",
    "plt.yscale('log')\n",
    "plt.xlim(1,120)\n",
    "plt.ylim(1,600)\n",
    "plt.legend()\n",
    "plt.grid(which = 'both')\n",
    "plt.show()"
   ]
  },
  {
   "cell_type": "markdown",
   "metadata": {},
   "source": [
    "<img src=\"./Figures/Plot_PCA_fit.png\" width=\"500\">"
   ]
  },
  {
   "cell_type": "markdown",
   "metadata": {},
   "source": [
    "### PCA with Scikit-learn (bonus)\n",
    "\n",
    "This section is just to show you that everything you have calculated using the linear algebra is already implemented in `scikit-learn`\n",
    "\n",
    "The next cells are just here to show you how to do it. Of course, don't hesitate to refer to the documentation about PCA = \n",
    "https://scikit-learn.org/stable/modules/generated/sklearn.decomposition.PCA.html"
   ]
  },
  {
   "cell_type": "markdown",
   "metadata": {},
   "source": [
    "In the previous section, we used some numpy vectors, here, we will use a DataFrame, just to show that it's also possible."
   ]
  },
  {
   "cell_type": "code",
   "execution_count": 37,
   "metadata": {},
   "outputs": [],
   "source": [
    "df = pd.DataFrame({'turbidity':TUR, 'Suspended Load':SS, \n",
    "                   'LogSL':np.log(SS), 'LogT': np.log(TUR)})"
   ]
  },
  {
   "cell_type": "code",
   "execution_count": 38,
   "metadata": {},
   "outputs": [],
   "source": [
    "from sklearn.decomposition import PCA\n",
    "pca = PCA(n_components=2)\n",
    "principalComponents = pca.fit(df[['LogT', 'LogSL']])\n"
   ]
  },
  {
   "cell_type": "markdown",
   "metadata": {},
   "source": [
    "`pca.explained_variance_` return the eigen values and `pca.components_` return the eigen vectors"
   ]
  },
  {
   "cell_type": "code",
   "execution_count": 39,
   "metadata": {},
   "outputs": [
    {
     "name": "stdout",
     "output_type": "stream",
     "text": [
      "Valeurs propres:\n",
      "[2.16801013 0.23309121]\n",
      "\n",
      "Vecteurs propres:\n",
      "[[-0.57574746 -0.81762758]\n",
      " [ 0.81762758 -0.57574746]]\n"
     ]
    }
   ],
   "source": [
    "print(\"Valeurs propres:\")\n",
    "e_val_pca = pca.explained_variance_\n",
    "print(e_val_pca)\n",
    "print(\"\\nVecteurs propres:\")\n",
    "e_vec_pca = pca.components_\n",
    "print(e_vec_pca)"
   ]
  },
  {
   "cell_type": "markdown",
   "metadata": {},
   "source": [
    "`pca.transform` offer the ability to plot your data in the base of the eigenvectors "
   ]
  },
  {
   "cell_type": "code",
   "execution_count": 40,
   "metadata": {},
   "outputs": [
    {
     "data": {
      "image/png": "[encoded data removed]",
      "text/plain": [
       "<Figure size 432x288 with 1 Axes>"
      ]
     },
     "metadata": {
      "needs_background": "light"
     },
     "output_type": "display_data"
    }
   ],
   "source": [
    "X_proj = pca.transform(df[['LogT', 'LogSL']])\n",
    "\n",
    "plt.figure()\n",
    "plt.scatter(X_proj[:,0], X_proj[:,1])\n",
    "plt.xlabel('PCA_1')\n",
    "plt.ylabel('PCA_2')\n",
    "plt.hlines(0, -4, 4, colors = 'red')\n",
    "plt.grid()\n",
    "plt.show()"
   ]
  },
  {
   "cell_type": "code",
   "execution_count": 41,
   "metadata": {},
   "outputs": [
    {
     "name": "stdout",
     "output_type": "stream",
     "text": [
      "Valeurs propres:\n",
      "[2.16801013 0.23309121]\n",
      "Vecteurs propres:\n",
      "[[-0.57574746 -0.81762758]\n",
      " [ 0.81762758 -0.57574746]]\n"
     ]
    }
   ],
   "source": [
    "print(\"Valeurs propres:\")\n",
    "e_val_pca = pca.explained_variance_\n",
    "print(e_val_pca)\n",
    "print(\"Vecteurs propres:\")\n",
    "e_vec_pca = pca.components_\n",
    "print(e_vec_pca)"
   ]
  }
 ],
 "metadata": {
  "kernelspec": {
   "display_name": "Python 3",
   "language": "python",
   "name": "python3"
  },
  "language_info": {
   "codemirror_mode": {
    "name": "ipython",
    "version": 3
   },
   "file_extension": ".py",
   "mimetype": "text/x-python",
   "name": "python",
   "nbconvert_exporter": "python",
   "pygments_lexer": "ipython3",
   "version": "3.7.8"
  }
 },
 "nbformat": 4,
 "nbformat_minor": 4
}
